{
 "cells": [
  {
   "cell_type": "code",
   "execution_count": 1,
   "metadata": {},
   "outputs": [],
   "source": [
    "import os \n",
    "import numpy as np\n",
    "import pandas as pd\n",
    "import glob\n",
    "import json\n",
    "import tqdm\n",
    "import warnings\n",
    "from multiprocessing import Pool\n",
    "warnings.filterwarnings(action= 'ignore')"
   ]
  },
  {
   "cell_type": "code",
   "execution_count": 2,
   "metadata": {},
   "outputs": [
    {
     "name": "stdout",
     "output_type": "stream",
     "text": [
      "total number of data :  369236\n"
     ]
    }
   ],
   "source": [
    "data_path = '../dataset/'\n",
    "data_all_path = []\n",
    "for i in ['train' , 'val']:\n",
    "    for j in [ 'label']: # add img is available\n",
    "        for k in ['large' , 'medium' , 'small']:\n",
    "            for p in ['illegal' ,'normal' ]:\n",
    "                data_full_path = os.path.join(data_path , i , j , k , p)\n",
    "                data_all_path.extend(glob.glob(data_full_path  + '/*'))\n",
    "\n",
    "print('total number of data : ' , len(data_all_path))"
   ]
  },
  {
   "cell_type": "code",
   "execution_count": 42,
   "metadata": {},
   "outputs": [],
   "source": [
    "# 데이터를 병렬으로 불러오기 위한 function\n",
    "def parallelize_dataframe(df, func , num_cores):\n",
    "\n",
    "    # 데이터 나누고, 쓰레드 할당받기\n",
    "    df_split = np.array_split(df, num_cores)\n",
    "    pool = Pool(num_cores)\n",
    "    result = pool.map(func, df_split)\n",
    "    pool.close()\n",
    "    pool.join()\n",
    "\n",
    "    # 결과 합치기\n",
    "    result_1 , result_2 = [] , []\n",
    "    for i in result:\n",
    "        result_1.append(i[0])\n",
    "        result_2.append(i[1])\n",
    "    df_result = pd.concat(result_1 , axis = 0 )\n",
    "    df_item = pd.concat(result_2 , axis = 0 )\n",
    "\n",
    "    return df_result , df_item\n",
    "\n",
    "# json to df\n",
    "def json_loader(data_path):\n",
    "    df = pd.DataFrame()\n",
    "    df_item = pd.DataFrame()\n",
    "    df_error = []\n",
    "\n",
    "    for i ,data in enumerate(data_path):\n",
    "        with open(data, 'r') as json_read :\n",
    "            json_str = json.load(json_read) # json.load 로 파일 읽기\n",
    "\n",
    "            # get img info\n",
    "            df = df.append(json_str['FILE'][0] , ignore_index= True)\n",
    "            for json_item in json_str['FILE'][0]['ITEMS']:\n",
    "                json_item['FILE_NAME'] = json_str['FILE'][0]['FILE_NAME']\n",
    "\n",
    "                # get obj info\n",
    "                df_item = df_item.append(json_item , ignore_index= True)\n",
    "                \n",
    "    return df , df_item"
   ]
  },
  {
   "cell_type": "code",
   "execution_count": 55,
   "metadata": {},
   "outputs": [],
   "source": [
    "df , df_item = parallelize_dataframe(data_all_path , json_loader , 30)"
   ]
  },
  {
   "cell_type": "code",
   "execution_count": 66,
   "metadata": {},
   "outputs": [],
   "source": [
    "df.to_csv('img_info.csv' , index = False)\n",
    "df_item.to_csv('obj_info.csv' , index = False)"
   ]
  }
 ],
 "metadata": {
  "kernelspec": {
   "display_name": "Python 3",
   "language": "python",
   "name": "python3"
  },
  "language_info": {
   "codemirror_mode": {
    "name": "ipython",
    "version": 3
   },
   "file_extension": ".py",
   "mimetype": "text/x-python",
   "name": "python",
   "nbconvert_exporter": "python",
   "pygments_lexer": "ipython3",
   "version": "3.8.10"
  },
  "orig_nbformat": 4,
  "vscode": {
   "interpreter": {
    "hash": "31f2aee4e71d21fbe5cf8b01ff0e069b9275f58929596ceb00d14d90e3e16cd6"
   }
  }
 },
 "nbformat": 4,
 "nbformat_minor": 2
}
