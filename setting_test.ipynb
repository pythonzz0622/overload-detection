{
 "cells": [
  {
   "cell_type": "code",
   "execution_count": 11,
   "metadata": {
    "collapsed": true,
    "pycharm": {
     "name": "#%%\n"
    }
   },
   "outputs": [],
   "source": [
    "import platform\n",
    "import matplotlib.pyplot as plt\n",
    "from matplotlib import rc\n",
    "\n",
    "# font setting\n",
    "is_mac = 'mac' in platform.platform()\n",
    "rc('font', family='AppleGothic') if is_mac else rc('font', family='NanumGothic')\n",
    "plt.rcParams['axes.unicode_minus'] = False"
   ]
  },
  {
   "cell_type": "code",
   "execution_count": null,
   "outputs": [],
   "source": [
    "import torch\n",
    "print (f\"PyTorch version:{torch.__version__}\") # 1.12.1 이상\n",
    "\n",
    "if is_mac:\n",
    "    print(f\"MPS 장치를 지원하도록 build 되었는지: {torch.backends.mps.is_built()}\") # True 여야 합니다.\n",
    "    print(f\"MPS 장치가 사용 가능한지: {torch.backends.mps.is_available()}\") # True 여야 합니다.\n",
    "    device = torch.device('mps:0' if torch.backends.mps.is_available() else 'cpu')\n",
    "else:\n",
    "    #ubuntu\n",
    "    print(f'GPU 사용여부: {torch.cuda.is_available()}')\n",
    "    gpu_count = torch.cuda.device_count()\n",
    "    print(f'GPU count: {gpu_count}')\n",
    "    if gpu_count > 0:\n",
    "        print(f'GPU name: {torch.cuda.get_device_name(0)}')\n"
   ],
   "metadata": {
    "collapsed": false,
    "pycharm": {
     "name": "#%%\n"
    }
   }
  }
 ],
 "metadata": {
  "kernelspec": {
   "display_name": "Python 3",
   "language": "python",
   "name": "python3"
  },
  "language_info": {
   "codemirror_mode": {
    "name": "ipython",
    "version": 2
   },
   "file_extension": ".py",
   "mimetype": "text/x-python",
   "name": "python",
   "nbconvert_exporter": "python",
   "pygments_lexer": "ipython2",
   "version": "2.7.6"
  }
 },
 "nbformat": 4,
 "nbformat_minor": 0
}